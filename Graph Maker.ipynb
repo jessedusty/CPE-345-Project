{
 "cells": [
  {
   "cell_type": "code",
   "execution_count": 126,
   "metadata": {},
   "outputs": [],
   "source": [
    "import subprocess\n",
    "import pandas as pd\n",
    "import numpy as np\n",
    "from tqdm import tqdm_notebook\n",
    "from typing import List\n",
    "import matplotlib.pyplot as plt\n",
    "%matplotlib inline  \n",
    "\n",
    "ini_format = \"\"\"\n",
    "[General]\n",
    "network = Scheduler\n",
    "**.queue.serviceTime = {}s  \n",
    "**.source.interArrivalTime = exponential({}s)  \n",
    "**.source.numJobs = {}\n",
    "**.registrar.acceptenceRate = 0.9\n",
    "repeat = 1000\n",
    "\"\"\"\n",
    "\n",
    "def ini_gen(service_time=1, students=700, inter_arrival_time=0.5):\n",
    "    contents = ini_format.format(service_time, inter_arrival_time, students)\n",
    "    with open(\"custom.ini\", \"w\") as f:\n",
    "        f.write(contents)\n",
    "        \n",
    "def run_omnetpp():\n",
    "    subprocess.call(\"rm results/totaled.csv\", shell=True)\n",
    "    subprocess.call(\"opp_runall -j24 -b41 ./FinalProjectTry2 -m -u Cmdenv -n .:../queueinglib -l ../queueinglib/queueinglib custom.ini -c General\", shell=True)\n",
    "    subprocess.call(\"cd results && scavetool x *.sca -o totaled.csv\", shell=True)\n",
    "    a = pd.read_csv(\"results/totaled.csv\")\n",
    "    return a.pivot_table(columns=\"name\", values=\"value\", index=\"run\")\n",
    "\n",
    "    \n",
    "def process_results(dataset):\n",
    "    def process_column(param, nice_name): \n",
    "        values = dataset[param].dropna() \n",
    "        return {f\"{nice_name} mean\": values.mean(), f\"{nice_name} sem\": values.sem()}\n",
    "        \n",
    "    results = process_column(\"lifeTime:max\", \"Max Registration Time\")\n",
    "    results.update(process_column(\"lifeTime:mean\", \"Mean Registration Time\"))\n",
    "    return results\n",
    "\n",
    "def run_simulation(service_time=1, students=700, inter_arrival_time=0.5):\n",
    "    ini_gen(service_time, students, inter_arrival_time) \n",
    "    a = run_omnetpp()\n",
    "    results = process_results(a)\n",
    "    results[\"Service Time\"] = service_time\n",
    "    results[\"Students\"] = students\n",
    "    results[\"Inter-arrival Time\"] = inter_arrival_time\n",
    "    return results \n",
    "\n",
    "def fix_order(columns):\n",
    "    columns = list(columns)\n",
    "    for c in [\"Service Time\", \"Students\", \"Inter-arrival Time\"]:\n",
    "        columns.remove(c)\n",
    "        columns.insert(0, c)\n",
    "    return columns\n",
    "\n",
    "def pretty_format(data):\n",
    "    return pd.DataFrame(data, columns=fix_order(data[0].keys()))"
   ]
  },
  {
   "cell_type": "code",
   "execution_count": 117,
   "metadata": {},
   "outputs": [
    {
     "data": {
      "text/plain": [
       "{'Max Registration Time mean': 83.55854493959164,\n",
       " 'Max Registration Time sem': 0.29442697185679984,\n",
       " 'Mean Registration Time mean': 31.66950963124321,\n",
       " 'Mean Registration Time sem': 0.106778243995269,\n",
       " 'Service Time': 1,\n",
       " 'Students': 100,\n",
       " 'Inter-arrival Time': 0.5}"
      ]
     },
     "execution_count": 117,
     "metadata": {},
     "output_type": "execute_result"
    }
   ],
   "source": [
    "run_simulation(1, 100)"
   ]
  },
  {
   "cell_type": "code",
   "execution_count": 89,
   "metadata": {},
   "outputs": [],
   "source": [
    "ini_gen(7, 1000)"
   ]
  },
  {
   "cell_type": "code",
   "execution_count": 38,
   "metadata": {},
   "outputs": [],
   "source": [
    "a = run_omnetpp()"
   ]
  },
  {
   "cell_type": "code",
   "execution_count": 47,
   "metadata": {},
   "outputs": [
    {
     "data": {
      "text/plain": [
       "[('lifeTime:max', 4060.0117408412825, 110.77824520196462),\n",
       " ('lifeTime:mean', 1887.1468307819125, 54.20674027030974)]"
      ]
     },
     "execution_count": 47,
     "metadata": {},
     "output_type": "execute_result"
    }
   ],
   "source": [
    "process_results(a)"
   ]
  },
  {
   "cell_type": "code",
   "execution_count": 142,
   "metadata": {},
   "outputs": [
    {
     "data": {
      "application/vnd.jupyter.widget-view+json": {
       "model_id": "16762a8b03ef4d0bbb616382ce6ddc37",
       "version_major": 2,
       "version_minor": 0
      },
      "text/plain": [
       "HBox(children=(IntProgress(value=0, max=10), HTML(value='')))"
      ]
     },
     "metadata": {},
     "output_type": "display_data"
    },
    {
     "name": "stdout",
     "output_type": "stream",
     "text": [
      "\n"
     ]
    },
    {
     "data": {
      "application/vnd.jupyter.widget-view+json": {
       "model_id": "cb207909980a4ee588f492436517fc89",
       "version_major": 2,
       "version_minor": 0
      },
      "text/plain": [
       "HBox(children=(IntProgress(value=0, max=10), HTML(value='')))"
      ]
     },
     "metadata": {},
     "output_type": "display_data"
    },
    {
     "name": "stdout",
     "output_type": "stream",
     "text": [
      "\n"
     ]
    }
   ],
   "source": [
    "student_trials = pretty_format([run_simulation(students=s) for s in tqdm_notebook(np.linspace(700, 1500, 10, dtype=int))])\n",
    "service_time_trials = pretty_format([run_simulation(service_time=s) for s in tqdm_notebook(np.linspace(0.5, 10, 10))])\n"
   ]
  },
  {
   "cell_type": "code",
   "execution_count": 147,
   "metadata": {},
   "outputs": [
    {
     "data": {
      "application/vnd.jupyter.widget-view+json": {
       "model_id": "470c0a9773db439abc7851b05665cfed",
       "version_major": 2,
       "version_minor": 0
      },
      "text/plain": [
       "HBox(children=(IntProgress(value=0), HTML(value='')))"
      ]
     },
     "metadata": {},
     "output_type": "display_data"
    },
    {
     "name": "stdout",
     "output_type": "stream",
     "text": [
      "\n"
     ]
    }
   ],
   "source": [
    "iit = pretty_format([run_simulation(inter_arrival_time=s) for s in tqdm_notebook(np.linspace(0, 10, 100))]) \n"
   ]
  },
  {
   "cell_type": "code",
   "execution_count": 148,
   "metadata": {},
   "outputs": [
    {
     "data": {
      "text/plain": [
       "<matplotlib.axes._subplots.AxesSubplot at 0x7ff1eeecc048>"
      ]
     },
     "execution_count": 148,
     "metadata": {},
     "output_type": "execute_result"
    },
    {
     "data": {
      "image/png": "[encoded data removed]",
      "text/plain": [
       "<Figure size 432x288 with 1 Axes>"
      ]
     },
     "metadata": {
      "needs_background": "light"
     },
     "output_type": "display_data"
    }
   ],
   "source": [
    "iit[[\"Inter-arrival Time\", \"Max Registration Time mean\", \"Mean Registration Time mean\"]].plot(x=\"Inter-arrival Time\")"
   ]
  },
  {
   "cell_type": "code",
   "execution_count": 151,
   "metadata": {},
   "outputs": [
    {
     "data": {
      "text/plain": [
       "<matplotlib.axes._subplots.AxesSubplot at 0x7ff1eeecc748>"
      ]
     },
     "execution_count": 151,
     "metadata": {},
     "output_type": "execute_result"
    },
    {
     "data": {
      "image/png": "[encoded data removed]",
      "text/plain": [
       "<Figure size 432x288 with 1 Axes>"
      ]
     },
     "metadata": {
      "needs_background": "light"
     },
     "output_type": "display_data"
    }
   ],
   "source": [
    "iit[[\"Inter-arrival Time\", \"Max Registration Time sem\", \"Mean Registration Time sem\"]].plot(x=\"Inter-arrival Time\")"
   ]
  },
  {
   "cell_type": "code",
   "execution_count": 150,
   "metadata": {},
   "outputs": [],
   "source": [
    "iit.to_pickle(\"iit long_run\")"
   ]
  },
  {
   "cell_type": "code",
   "execution_count": null,
   "metadata": {},
   "outputs": [],
   "source": []
  }
 ],
 "metadata": {
  "kernelspec": {
   "display_name": "Python 3",
   "language": "python",
   "name": "python3"
  },
  "language_info": {
   "codemirror_mode": {
    "name": "ipython",
    "version": 3
   },
   "file_extension": ".py",
   "mimetype": "text/x-python",
   "name": "python",
   "nbconvert_exporter": "python",
   "pygments_lexer": "ipython3",
   "version": "3.7.3"
  }
 },
 "nbformat": 4,
 "nbformat_minor": 2
}
